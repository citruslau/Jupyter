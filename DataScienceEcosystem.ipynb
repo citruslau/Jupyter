{
  "cells": [
    {
      "cell_type": "markdown",
      "id": "9ec68cc2-e009-4cc3-b6af-4ad5c67d84f5",
      "metadata": {},
      "source": [
        "# Data Science Tools and Ecosystem"
      ]
    },
    {
      "cell_type": "markdown",
      "id": "6f825702-4542-4360-b0fe-5708bc0d17fb",
      "metadata": {},
      "source": [
        "In this notebook, Data Science Tools and Ecosystem are summarized. "
      ]
    },
    {
      "cell_type": "markdown",
      "id": "6664b0cc-0ac7-4080-a516-c3f7938a92b8",
      "metadata": {},
      "source": [
        "Some of the popular languages that Data Scientists use are:\n",
        "1. Python \n",
        "2. R\n",
        "3. SQL\n",
        "4. C++\n",
        "5. Java etc..;"
      ]
    },
    {
      "cell_type": "markdown",
      "id": "7e234489-2c84-48ee-8c63-abe1836723de",
      "metadata": {},
      "source": [
        "Some of the commonly used libraries used by Data Scientists include:\n",
        "1. Tensorflow.\n",
        "2. NumpPy.\n",
        "3. SciPy.\n",
        "4. Pandas.\n",
        "5. Matplotlib.\n",
        "6. Keras.\n",
        "7. SciKit-Learn.\n",
        "8. PyTorch. etc..;"
      ]
    },
    {
      "cell_type": "markdown",
      "id": "f92b27d2-5c21-4d9f-a7ec-d3b6b1c9968f",
      "metadata": {},
      "source": [
        "|Data Science Tools|\n",
        "|---|\n",
        "|SAS|\n",
        "|Apache Hadoop|\n",
        "|TensorFlow|"
      ]
    },
    {
      "cell_type": "markdown",
      "id": "41fe2a11-9a18-4565-8770-c3a614c8b206",
      "metadata": {},
      "source": [
        "## Arithmetic Expression Examples:\n",
        "This section will demonstate basic arithmetic operations."
      ]
    },
    {
      "cell_type": "code",
      "execution_count": 5,
      "id": "01b95328-0c94-49e0-b3cc-12034b69c4b5",
      "metadata": {
        "trusted": true
      },
      "outputs": [
        {
          "data": {
            "text/plain": [
              "47"
            ]
          },
          "execution_count": 5,
          "metadata": {},
          "output_type": "execute_result"
        }
      ],
      "source": [
        "#this is a common arithmetic example to multiply and then add integers\n",
        "answer = (7*6)+5\n",
        "answer"
      ]
    },
    {
      "cell_type": "code",
      "execution_count": 6,
      "id": "b7f49d5c-fb10-40ab-9287-0f7d180a0d17",
      "metadata": {
        "trusted": true
      },
      "outputs": [
        {
          "data": {
            "text/plain": [
              "15.0"
            ]
          },
          "execution_count": 6,
          "metadata": {},
          "output_type": "execute_result"
        }
      ],
      "source": [
        "#This will convert 900 minutes to hours by dividing by 60\n",
        "hour = 900/60\n",
        "hour"
      ]
    },
    {
      "cell_type": "markdown",
      "id": "869c2ce1-9c0c-4fd8-8851-d8397d51eec3",
      "metadata": {},
      "source": [
        "__Objective__\n",
        "* List popular languages for Data Science\n",
        "* List popular libraries for Data Science\n",
        "* List of Well known Data Science Tools\n",
        "* How to Provide comments in the cell"
      ]
    },
    {
      "cell_type": "markdown",
      "id": "b71581b3-efe9-4384-a28f-fc26ef69a812",
      "metadata": {},
      "source": [
        "## Author\n",
        "Fritz Gerald Latagan "
      ]
    }
  ],
  "metadata": {
    "kernelspec": {
      "display_name": "Python 3",
      "language": "python",
      "name": "python3"
    },
    "language_info": {
      "codemirror_mode": {
        "name": "ipython",
        "version": 3
      },
      "file_extension": ".py",
      "mimetype": "text/x-python",
      "name": "python",
      "nbconvert_exporter": "python",
      "pygments_lexer": "ipython3",
      "version": "3.12.6"
    }
  },
  "nbformat": 4,
  "nbformat_minor": 5
}
